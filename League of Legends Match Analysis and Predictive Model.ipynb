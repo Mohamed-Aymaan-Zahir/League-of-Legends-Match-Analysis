{
 "cells": [
  {
   "cell_type": "markdown",
   "id": "aa6bb595-a90a-4f5d-b732-8b16926203bc",
   "metadata": {},
   "source": [
    "# **Predicting Match Outcomes in League of Legends Based on Team Performance and Player Statistics**"
   ]
  },
  {
   "cell_type": "markdown",
   "id": "b6666d37-00b5-48ac-b6f2-4a560be01c30",
   "metadata": {},
   "source": [
    "## **Introduction**"
   ]
  },
  {
   "cell_type": "markdown",
   "id": "52aea4a4-a4b6-41d6-b7e7-41f68c236750",
   "metadata": {},
   "source": [
    "_League of Legends_ is a popular multiplayer online battle arena (MOBA) game developed and published by Riot Games that is played by well over 30 million players everyday on average. As a result of this, there is a wealth of game data available to gain insights about trends seen in League of Legends matches, as well as build a model that can predict the outcome of a game based on different match and player statistics."
   ]
  },
  {
   "cell_type": "markdown",
   "id": "def70942-648d-4bcc-90f6-52c6f9648427",
   "metadata": {},
   "source": [
    "In this analysis, I will begin by cleaning and pre-processing a League of Legends match dataset, after which I will perform an exploratory data analysis on the data, visualizing some key trends. Finally, I will use a CatBoost Classifier to predict match outcomes using the data available."
   ]
  },
  {
   "cell_type": "markdown",
   "id": "ba076c4c-7fe6-428b-89df-2404905fd5d1",
   "metadata": {},
   "source": [
    "## **Data Description**"
   ]
  },
  {
   "cell_type": "markdown",
   "id": "eedb04b4-28bf-47e1-af67-de3a4ace0e2f",
   "metadata": {},
   "source": [
    "_License:_ **_CC BY 4.0 (Creative Commons Attribution 4.0 International)_**. \\\n",
    "This license allows sharing, modification, and use of the dataset as long as proper attribution is given."
   ]
  },
  {
   "cell_type": "markdown",
   "id": "91d826ff-0c42-4cdb-a892-413eac94f480",
   "metadata": {},
   "source": [
    "The data that will be used is the `League of Legends Match Dataset (2025)` by user Jacob Krasuski from Kaggle.com: https://www.kaggle.com/datasets/jakubkrasuski/league-of-legends-match-dataset-2025\n",
    "\n",
    "The dataset consists of 40412 rows and 94 columns, with each row representing a unique player in a match and each column representing information about various aspects regarding the match and the player's performance within the match. All of the data was taken from matches on the Europe Nordic and East server."
   ]
  },
  {
   "cell_type": "markdown",
   "id": "87b948d5-7c87-4d55-aad6-34014c3938f3",
   "metadata": {},
   "source": [
    "## **Data Cleaning**"
   ]
  },
  {
   "cell_type": "markdown",
   "id": "19493062-7e52-4229-bb9a-688956aae3ce",
   "metadata": {},
   "source": [
    "remove unncessary columns, change monkeyking to wukong, change utility to support, remove nan, split into aram/sr/swiftplay,"
   ]
  },
  {
   "cell_type": "code",
   "execution_count": 3,
   "id": "b20910de-eaf0-4bb8-94c5-fd6338f39093",
   "metadata": {},
   "outputs": [],
   "source": [
    "# importing relevant libraries\n",
    "\n",
    "import pandas as pd\n",
    "import numpy as np\n",
    "import matplotlib.pyplot as plt\n",
    "import seaborn as sns"
   ]
  },
  {
   "cell_type": "code",
   "execution_count": 6,
   "id": "98dea05c-32c4-4178-9f20-e2b8a0807949",
   "metadata": {},
   "outputs": [],
   "source": [
    "# loading in the dataset\n",
    "\n",
    "matches = pd.read_csv(\"league_data.csv\", dtype={17: 'str'})"
   ]
  },
  {
   "cell_type": "code",
   "execution_count": 7,
   "id": "04437c47-4c19-4859-afec-ed5d232dbdcf",
   "metadata": {},
   "outputs": [
    {
     "data": {
      "text/html": [
       "<div>\n",
       "<style scoped>\n",
       "    .dataframe tbody tr th:only-of-type {\n",
       "        vertical-align: middle;\n",
       "    }\n",
       "\n",
       "    .dataframe tbody tr th {\n",
       "        vertical-align: top;\n",
       "    }\n",
       "\n",
       "    .dataframe thead th {\n",
       "        text-align: right;\n",
       "    }\n",
       "</style>\n",
       "<table border=\"1\" class=\"dataframe\">\n",
       "  <thead>\n",
       "    <tr style=\"text-align: right;\">\n",
       "      <th></th>\n",
       "      <th>game_id</th>\n",
       "      <th>game_start_utc</th>\n",
       "      <th>game_duration</th>\n",
       "      <th>game_mode</th>\n",
       "      <th>game_type</th>\n",
       "      <th>game_version</th>\n",
       "      <th>map_id</th>\n",
       "      <th>platform_id</th>\n",
       "      <th>queue_id</th>\n",
       "      <th>participant_id</th>\n",
       "      <th>...</th>\n",
       "      <th>final_magicPen</th>\n",
       "      <th>final_magicPenPercent</th>\n",
       "      <th>final_magicResist</th>\n",
       "      <th>final_movementSpeed</th>\n",
       "      <th>final_omnivamp</th>\n",
       "      <th>final_physicalVamp</th>\n",
       "      <th>final_power</th>\n",
       "      <th>final_powerMax</th>\n",
       "      <th>final_powerRegen</th>\n",
       "      <th>final_spellVamp</th>\n",
       "    </tr>\n",
       "  </thead>\n",
       "  <tbody>\n",
       "    <tr>\n",
       "      <th>0</th>\n",
       "      <td>3.727443e+09</td>\n",
       "      <td>2025-01-15 14:56:00</td>\n",
       "      <td>1714.0</td>\n",
       "      <td>CLASSIC</td>\n",
       "      <td>MATCHED_GAME</td>\n",
       "      <td>15.1.649.4112</td>\n",
       "      <td>11.0</td>\n",
       "      <td>EUN1</td>\n",
       "      <td>420.0</td>\n",
       "      <td>5.0</td>\n",
       "      <td>...</td>\n",
       "      <td>0.0</td>\n",
       "      <td>0.0</td>\n",
       "      <td>48.0</td>\n",
       "      <td>385.0</td>\n",
       "      <td>0.0</td>\n",
       "      <td>0.0</td>\n",
       "      <td>799.0</td>\n",
       "      <td>1134.0</td>\n",
       "      <td>147.0</td>\n",
       "      <td>0.0</td>\n",
       "    </tr>\n",
       "    <tr>\n",
       "      <th>1</th>\n",
       "      <td>3.726377e+09</td>\n",
       "      <td>2025-01-13 10:50:00</td>\n",
       "      <td>1300.0</td>\n",
       "      <td>CLASSIC</td>\n",
       "      <td>MATCHED_GAME</td>\n",
       "      <td>15.1.648.3927</td>\n",
       "      <td>11.0</td>\n",
       "      <td>EUN1</td>\n",
       "      <td>420.0</td>\n",
       "      <td>5.0</td>\n",
       "      <td>...</td>\n",
       "      <td>0.0</td>\n",
       "      <td>0.0</td>\n",
       "      <td>38.0</td>\n",
       "      <td>390.0</td>\n",
       "      <td>0.0</td>\n",
       "      <td>0.0</td>\n",
       "      <td>970.0</td>\n",
       "      <td>970.0</td>\n",
       "      <td>105.0</td>\n",
       "      <td>0.0</td>\n",
       "    </tr>\n",
       "    <tr>\n",
       "      <th>2</th>\n",
       "      <td>3.729644e+09</td>\n",
       "      <td>2025-01-19 18:15:00</td>\n",
       "      <td>2019.0</td>\n",
       "      <td>CLASSIC</td>\n",
       "      <td>MATCHED_GAME</td>\n",
       "      <td>15.1.649.4112</td>\n",
       "      <td>11.0</td>\n",
       "      <td>EUN1</td>\n",
       "      <td>420.0</td>\n",
       "      <td>2.0</td>\n",
       "      <td>...</td>\n",
       "      <td>0.0</td>\n",
       "      <td>0.0</td>\n",
       "      <td>121.0</td>\n",
       "      <td>431.0</td>\n",
       "      <td>0.0</td>\n",
       "      <td>0.0</td>\n",
       "      <td>10000.0</td>\n",
       "      <td>10000.0</td>\n",
       "      <td>0.0</td>\n",
       "      <td>0.0</td>\n",
       "    </tr>\n",
       "    <tr>\n",
       "      <th>3</th>\n",
       "      <td>3.729916e+09</td>\n",
       "      <td>2025-01-20 01:27:00</td>\n",
       "      <td>1625.0</td>\n",
       "      <td>CLASSIC</td>\n",
       "      <td>MATCHED_GAME</td>\n",
       "      <td>15.1.649.4112</td>\n",
       "      <td>11.0</td>\n",
       "      <td>EUN1</td>\n",
       "      <td>420.0</td>\n",
       "      <td>8.0</td>\n",
       "      <td>...</td>\n",
       "      <td>12.0</td>\n",
       "      <td>0.0</td>\n",
       "      <td>47.0</td>\n",
       "      <td>380.0</td>\n",
       "      <td>0.0</td>\n",
       "      <td>0.0</td>\n",
       "      <td>1122.0</td>\n",
       "      <td>1596.0</td>\n",
       "      <td>37.0</td>\n",
       "      <td>0.0</td>\n",
       "    </tr>\n",
       "    <tr>\n",
       "      <th>4</th>\n",
       "      <td>3.729902e+09</td>\n",
       "      <td>2025-01-20 00:40:00</td>\n",
       "      <td>1542.0</td>\n",
       "      <td>CLASSIC</td>\n",
       "      <td>MATCHED_GAME</td>\n",
       "      <td>15.1.649.4112</td>\n",
       "      <td>11.0</td>\n",
       "      <td>EUN1</td>\n",
       "      <td>420.0</td>\n",
       "      <td>10.0</td>\n",
       "      <td>...</td>\n",
       "      <td>0.0</td>\n",
       "      <td>0.0</td>\n",
       "      <td>40.0</td>\n",
       "      <td>534.0</td>\n",
       "      <td>0.0</td>\n",
       "      <td>0.0</td>\n",
       "      <td>1025.0</td>\n",
       "      <td>1025.0</td>\n",
       "      <td>109.0</td>\n",
       "      <td>0.0</td>\n",
       "    </tr>\n",
       "  </tbody>\n",
       "</table>\n",
       "<p>5 rows × 94 columns</p>\n",
       "</div>"
      ],
      "text/plain": [
       "        game_id       game_start_utc  game_duration game_mode     game_type  \\\n",
       "0  3.727443e+09  2025-01-15 14:56:00         1714.0   CLASSIC  MATCHED_GAME   \n",
       "1  3.726377e+09  2025-01-13 10:50:00         1300.0   CLASSIC  MATCHED_GAME   \n",
       "2  3.729644e+09  2025-01-19 18:15:00         2019.0   CLASSIC  MATCHED_GAME   \n",
       "3  3.729916e+09  2025-01-20 01:27:00         1625.0   CLASSIC  MATCHED_GAME   \n",
       "4  3.729902e+09  2025-01-20 00:40:00         1542.0   CLASSIC  MATCHED_GAME   \n",
       "\n",
       "    game_version  map_id platform_id  queue_id  participant_id  ...  \\\n",
       "0  15.1.649.4112    11.0        EUN1     420.0             5.0  ...   \n",
       "1  15.1.648.3927    11.0        EUN1     420.0             5.0  ...   \n",
       "2  15.1.649.4112    11.0        EUN1     420.0             2.0  ...   \n",
       "3  15.1.649.4112    11.0        EUN1     420.0             8.0  ...   \n",
       "4  15.1.649.4112    11.0        EUN1     420.0            10.0  ...   \n",
       "\n",
       "  final_magicPen final_magicPenPercent final_magicResist  final_movementSpeed  \\\n",
       "0            0.0                   0.0              48.0                385.0   \n",
       "1            0.0                   0.0              38.0                390.0   \n",
       "2            0.0                   0.0             121.0                431.0   \n",
       "3           12.0                   0.0              47.0                380.0   \n",
       "4            0.0                   0.0              40.0                534.0   \n",
       "\n",
       "   final_omnivamp final_physicalVamp  final_power final_powerMax  \\\n",
       "0             0.0                0.0        799.0         1134.0   \n",
       "1             0.0                0.0        970.0          970.0   \n",
       "2             0.0                0.0      10000.0        10000.0   \n",
       "3             0.0                0.0       1122.0         1596.0   \n",
       "4             0.0                0.0       1025.0         1025.0   \n",
       "\n",
       "  final_powerRegen final_spellVamp  \n",
       "0            147.0             0.0  \n",
       "1            105.0             0.0  \n",
       "2              0.0             0.0  \n",
       "3             37.0             0.0  \n",
       "4            109.0             0.0  \n",
       "\n",
       "[5 rows x 94 columns]"
      ]
     },
     "execution_count": 7,
     "metadata": {},
     "output_type": "execute_result"
    }
   ],
   "source": [
    "matches.head(5)"
   ]
  },
  {
   "cell_type": "code",
   "execution_count": 22,
   "id": "57344fc6-32d5-4ec5-a27f-578adc821c19",
   "metadata": {},
   "outputs": [
    {
     "data": {
      "text/plain": [
       "170"
      ]
     },
     "execution_count": 22,
     "metadata": {},
     "output_type": "execute_result"
    }
   ],
   "source": [
    "len(matches['champion_name'].unique())"
   ]
  },
  {
   "cell_type": "code",
   "execution_count": 28,
   "id": "9af84744-b053-4c6f-b68b-a1896f0e640c",
   "metadata": {},
   "outputs": [
    {
     "data": {
      "text/plain": [
       "array(['UTILITY', 'JUNGLE', 'MIDDLE', 'Invalid', 'BOTTOM', 'TOP', nan],\n",
       "      dtype=object)"
      ]
     },
     "execution_count": 28,
     "metadata": {},
     "output_type": "execute_result"
    }
   ],
   "source": [
    "matches['individual_position'].unique()"
   ]
  },
  {
   "cell_type": "code",
   "execution_count": 25,
   "id": "ff8b3867-6b06-4553-8720-ea8185eb5488",
   "metadata": {},
   "outputs": [
    {
     "data": {
      "text/html": [
       "<div>\n",
       "<style scoped>\n",
       "    .dataframe tbody tr th:only-of-type {\n",
       "        vertical-align: middle;\n",
       "    }\n",
       "\n",
       "    .dataframe tbody tr th {\n",
       "        vertical-align: top;\n",
       "    }\n",
       "\n",
       "    .dataframe thead th {\n",
       "        text-align: right;\n",
       "    }\n",
       "</style>\n",
       "<table border=\"1\" class=\"dataframe\">\n",
       "  <thead>\n",
       "    <tr style=\"text-align: right;\">\n",
       "      <th></th>\n",
       "      <th>champion_name</th>\n",
       "      <th>count</th>\n",
       "    </tr>\n",
       "  </thead>\n",
       "  <tbody>\n",
       "    <tr>\n",
       "      <th>67</th>\n",
       "      <td>Kled</td>\n",
       "      <td>40</td>\n",
       "    </tr>\n",
       "    <tr>\n",
       "      <th>48</th>\n",
       "      <td>Ivern</td>\n",
       "      <td>49</td>\n",
       "    </tr>\n",
       "    <tr>\n",
       "      <th>111</th>\n",
       "      <td>Rumble</td>\n",
       "      <td>67</td>\n",
       "    </tr>\n",
       "    <tr>\n",
       "      <th>104</th>\n",
       "      <td>Rammus</td>\n",
       "      <td>71</td>\n",
       "    </tr>\n",
       "    <tr>\n",
       "      <th>95</th>\n",
       "      <td>Olaf</td>\n",
       "      <td>72</td>\n",
       "    </tr>\n",
       "    <tr>\n",
       "      <th>...</th>\n",
       "      <td>...</td>\n",
       "      <td>...</td>\n",
       "    </tr>\n",
       "    <tr>\n",
       "      <th>53</th>\n",
       "      <td>Jhin</td>\n",
       "      <td>633</td>\n",
       "    </tr>\n",
       "    <tr>\n",
       "      <th>76</th>\n",
       "      <td>Lux</td>\n",
       "      <td>663</td>\n",
       "    </tr>\n",
       "    <tr>\n",
       "      <th>54</th>\n",
       "      <td>Jinx</td>\n",
       "      <td>678</td>\n",
       "    </tr>\n",
       "    <tr>\n",
       "      <th>82</th>\n",
       "      <td>MissFortune</td>\n",
       "      <td>713</td>\n",
       "    </tr>\n",
       "    <tr>\n",
       "      <th>20</th>\n",
       "      <td>Caitlyn</td>\n",
       "      <td>751</td>\n",
       "    </tr>\n",
       "  </tbody>\n",
       "</table>\n",
       "<p>169 rows × 2 columns</p>\n",
       "</div>"
      ],
      "text/plain": [
       "    champion_name  count\n",
       "67           Kled     40\n",
       "48          Ivern     49\n",
       "111        Rumble     67\n",
       "104        Rammus     71\n",
       "95           Olaf     72\n",
       "..            ...    ...\n",
       "53           Jhin    633\n",
       "76            Lux    663\n",
       "54           Jinx    678\n",
       "82    MissFortune    713\n",
       "20        Caitlyn    751\n",
       "\n",
       "[169 rows x 2 columns]"
      ]
     },
     "execution_count": 25,
     "metadata": {},
     "output_type": "execute_result"
    }
   ],
   "source": [
    "champions = matches.groupby(\"champion_name\").size().reset_index(name=\"count\")\n",
    "champions.sort_values(by = \"count\")"
   ]
  },
  {
   "cell_type": "markdown",
   "id": "3427bd3e-f36b-47f5-9963-603adc3ba146",
   "metadata": {},
   "source": [
    "## **References**"
   ]
  },
  {
   "cell_type": "markdown",
   "id": "02f35f52-8dc0-4f05-a2ee-01045eb50f97",
   "metadata": {},
   "source": [
    "https://activeplayer.io/league-of-legends/ (player count statement)"
   ]
  },
  {
   "cell_type": "code",
   "execution_count": null,
   "id": "5aa10704-851f-49ea-9b6a-df9261e86355",
   "metadata": {},
   "outputs": [],
   "source": []
  }
 ],
 "metadata": {
  "kernelspec": {
   "display_name": "Python 3 (ipykernel)",
   "language": "python",
   "name": "python3"
  },
  "language_info": {
   "codemirror_mode": {
    "name": "ipython",
    "version": 3
   },
   "file_extension": ".py",
   "mimetype": "text/x-python",
   "name": "python",
   "nbconvert_exporter": "python",
   "pygments_lexer": "ipython3",
   "version": "3.11.7"
  }
 },
 "nbformat": 4,
 "nbformat_minor": 5
}
