{
 "cells": [
  {
   "cell_type": "markdown",
   "id": "aa6bb595-a90a-4f5d-b732-8b16926203bc",
   "metadata": {},
   "source": [
    "# **Predicting Match Outcomes in League of Legends Based on Team Performance and Player Statistics**"
   ]
  },
  {
   "cell_type": "markdown",
   "id": "b6666d37-00b5-48ac-b6f2-4a560be01c30",
   "metadata": {},
   "source": [
    "## **Introduction**"
   ]
  },
  {
   "cell_type": "markdown",
   "id": "52aea4a4-a4b6-41d6-b7e7-41f68c236750",
   "metadata": {},
   "source": [
    "_League of Legends_ is a popular multiplayer online battle arena (MOBA) game developed and published by Riot Games that is played by well over 30 million players everyday on average. As a result of this, there is a wealth of game data available to gain insights about trends seen in League of Legends matches, as well as build a model that can predict the outcome of a game based on different match and player statistics."
   ]
  },
  {
   "cell_type": "markdown",
   "id": "def70942-648d-4bcc-90f6-52c6f9648427",
   "metadata": {},
   "source": [
    "In this analysis, I will begin by cleaning and pre-processing a League of Legends match dataset, after which I will perform an exploratory data analysis on the data, visualizing some key trends. Finally, I will use a CatBoost Classifier to predict match outcomes using the data available."
   ]
  },
  {
   "cell_type": "markdown",
   "id": "ba076c4c-7fe6-428b-89df-2404905fd5d1",
   "metadata": {},
   "source": [
    "## **Data Description**"
   ]
  },
  {
   "cell_type": "markdown",
   "id": "eedb04b4-28bf-47e1-af67-de3a4ace0e2f",
   "metadata": {},
   "source": [
    "_License:_ **_CC BY 4.0 (Creative Commons Attribution 4.0 International)_**. \\\n",
    "This license allows sharing, modification, and use of the dataset as long as proper attribution is given."
   ]
  },
  {
   "cell_type": "markdown",
   "id": "91d826ff-0c42-4cdb-a892-413eac94f480",
   "metadata": {},
   "source": [
    "The data that will be used is the `League of Legends Match Dataset (2025)` by user Jacob Krasuski from Kaggle.com: https://www.kaggle.com/datasets/jakubkrasuski/league-of-legends-match-dataset-2025\n",
    "\n",
    "The dataset consists of 40412 rows and 94 columns, with each row representing a unique player in a match and each column representing information about various aspects regarding the match and the player's performance within the match. All of the data was taken from matches on the Europe Nordic and East server."
   ]
  },
  {
   "cell_type": "markdown",
   "id": "87b948d5-7c87-4d55-aad6-34014c3938f3",
   "metadata": {},
   "source": [
    "## **Data Cleaning**"
   ]
  },
  {
   "cell_type": "markdown",
   "id": "19493062-7e52-4229-bb9a-688956aae3ce",
   "metadata": {},
   "source": [
    "remove unncessary columns, change monkeyking to wukong, change utility to support, remove nan, split into aram/sr/swiftplay,"
   ]
  },
  {
   "cell_type": "code",
   "execution_count": 1,
   "id": "b20910de-eaf0-4bb8-94c5-fd6338f39093",
   "metadata": {},
   "outputs": [],
   "source": [
    "# importing relevant libraries\n",
    "\n",
    "import pandas as pd\n",
    "import numpy as np\n",
    "import matplotlib.pyplot as plt\n",
    "import seaborn as sns"
   ]
  },
  {
   "cell_type": "code",
   "execution_count": 2,
   "id": "98dea05c-32c4-4178-9f20-e2b8a0807949",
   "metadata": {},
   "outputs": [],
   "source": [
    "# loading in the dataset\n",
    "\n",
    "matches = pd.read_csv(\"league_data.csv\", dtype={17: 'str'}, parse_dates=['game_start_utc'])"
   ]
  },
  {
   "cell_type": "code",
   "execution_count": 3,
   "id": "04437c47-4c19-4859-afec-ed5d232dbdcf",
   "metadata": {},
   "outputs": [
    {
     "data": {
      "text/html": [
       "<div>\n",
       "<style scoped>\n",
       "    .dataframe tbody tr th:only-of-type {\n",
       "        vertical-align: middle;\n",
       "    }\n",
       "\n",
       "    .dataframe tbody tr th {\n",
       "        vertical-align: top;\n",
       "    }\n",
       "\n",
       "    .dataframe thead th {\n",
       "        text-align: right;\n",
       "    }\n",
       "</style>\n",
       "<table border=\"1\" class=\"dataframe\">\n",
       "  <thead>\n",
       "    <tr style=\"text-align: right;\">\n",
       "      <th></th>\n",
       "      <th>game_id</th>\n",
       "      <th>game_start_utc</th>\n",
       "      <th>game_duration</th>\n",
       "      <th>game_mode</th>\n",
       "      <th>game_type</th>\n",
       "      <th>game_version</th>\n",
       "      <th>map_id</th>\n",
       "      <th>platform_id</th>\n",
       "      <th>queue_id</th>\n",
       "      <th>participant_id</th>\n",
       "      <th>...</th>\n",
       "      <th>final_magicPen</th>\n",
       "      <th>final_magicPenPercent</th>\n",
       "      <th>final_magicResist</th>\n",
       "      <th>final_movementSpeed</th>\n",
       "      <th>final_omnivamp</th>\n",
       "      <th>final_physicalVamp</th>\n",
       "      <th>final_power</th>\n",
       "      <th>final_powerMax</th>\n",
       "      <th>final_powerRegen</th>\n",
       "      <th>final_spellVamp</th>\n",
       "    </tr>\n",
       "  </thead>\n",
       "  <tbody>\n",
       "    <tr>\n",
       "      <th>0</th>\n",
       "      <td>3.727443e+09</td>\n",
       "      <td>2025-01-15 14:56:00</td>\n",
       "      <td>1714.0</td>\n",
       "      <td>CLASSIC</td>\n",
       "      <td>MATCHED_GAME</td>\n",
       "      <td>15.1.649.4112</td>\n",
       "      <td>11.0</td>\n",
       "      <td>EUN1</td>\n",
       "      <td>420.0</td>\n",
       "      <td>5.0</td>\n",
       "      <td>...</td>\n",
       "      <td>0.0</td>\n",
       "      <td>0.0</td>\n",
       "      <td>48.0</td>\n",
       "      <td>385.0</td>\n",
       "      <td>0.0</td>\n",
       "      <td>0.0</td>\n",
       "      <td>799.0</td>\n",
       "      <td>1134.0</td>\n",
       "      <td>147.0</td>\n",
       "      <td>0.0</td>\n",
       "    </tr>\n",
       "    <tr>\n",
       "      <th>1</th>\n",
       "      <td>3.726377e+09</td>\n",
       "      <td>2025-01-13 10:50:00</td>\n",
       "      <td>1300.0</td>\n",
       "      <td>CLASSIC</td>\n",
       "      <td>MATCHED_GAME</td>\n",
       "      <td>15.1.648.3927</td>\n",
       "      <td>11.0</td>\n",
       "      <td>EUN1</td>\n",
       "      <td>420.0</td>\n",
       "      <td>5.0</td>\n",
       "      <td>...</td>\n",
       "      <td>0.0</td>\n",
       "      <td>0.0</td>\n",
       "      <td>38.0</td>\n",
       "      <td>390.0</td>\n",
       "      <td>0.0</td>\n",
       "      <td>0.0</td>\n",
       "      <td>970.0</td>\n",
       "      <td>970.0</td>\n",
       "      <td>105.0</td>\n",
       "      <td>0.0</td>\n",
       "    </tr>\n",
       "    <tr>\n",
       "      <th>2</th>\n",
       "      <td>3.729644e+09</td>\n",
       "      <td>2025-01-19 18:15:00</td>\n",
       "      <td>2019.0</td>\n",
       "      <td>CLASSIC</td>\n",
       "      <td>MATCHED_GAME</td>\n",
       "      <td>15.1.649.4112</td>\n",
       "      <td>11.0</td>\n",
       "      <td>EUN1</td>\n",
       "      <td>420.0</td>\n",
       "      <td>2.0</td>\n",
       "      <td>...</td>\n",
       "      <td>0.0</td>\n",
       "      <td>0.0</td>\n",
       "      <td>121.0</td>\n",
       "      <td>431.0</td>\n",
       "      <td>0.0</td>\n",
       "      <td>0.0</td>\n",
       "      <td>10000.0</td>\n",
       "      <td>10000.0</td>\n",
       "      <td>0.0</td>\n",
       "      <td>0.0</td>\n",
       "    </tr>\n",
       "    <tr>\n",
       "      <th>3</th>\n",
       "      <td>3.729916e+09</td>\n",
       "      <td>2025-01-20 01:27:00</td>\n",
       "      <td>1625.0</td>\n",
       "      <td>CLASSIC</td>\n",
       "      <td>MATCHED_GAME</td>\n",
       "      <td>15.1.649.4112</td>\n",
       "      <td>11.0</td>\n",
       "      <td>EUN1</td>\n",
       "      <td>420.0</td>\n",
       "      <td>8.0</td>\n",
       "      <td>...</td>\n",
       "      <td>12.0</td>\n",
       "      <td>0.0</td>\n",
       "      <td>47.0</td>\n",
       "      <td>380.0</td>\n",
       "      <td>0.0</td>\n",
       "      <td>0.0</td>\n",
       "      <td>1122.0</td>\n",
       "      <td>1596.0</td>\n",
       "      <td>37.0</td>\n",
       "      <td>0.0</td>\n",
       "    </tr>\n",
       "    <tr>\n",
       "      <th>4</th>\n",
       "      <td>3.729902e+09</td>\n",
       "      <td>2025-01-20 00:40:00</td>\n",
       "      <td>1542.0</td>\n",
       "      <td>CLASSIC</td>\n",
       "      <td>MATCHED_GAME</td>\n",
       "      <td>15.1.649.4112</td>\n",
       "      <td>11.0</td>\n",
       "      <td>EUN1</td>\n",
       "      <td>420.0</td>\n",
       "      <td>10.0</td>\n",
       "      <td>...</td>\n",
       "      <td>0.0</td>\n",
       "      <td>0.0</td>\n",
       "      <td>40.0</td>\n",
       "      <td>534.0</td>\n",
       "      <td>0.0</td>\n",
       "      <td>0.0</td>\n",
       "      <td>1025.0</td>\n",
       "      <td>1025.0</td>\n",
       "      <td>109.0</td>\n",
       "      <td>0.0</td>\n",
       "    </tr>\n",
       "  </tbody>\n",
       "</table>\n",
       "<p>5 rows × 94 columns</p>\n",
       "</div>"
      ],
      "text/plain": [
       "        game_id      game_start_utc  game_duration game_mode     game_type  \\\n",
       "0  3.727443e+09 2025-01-15 14:56:00         1714.0   CLASSIC  MATCHED_GAME   \n",
       "1  3.726377e+09 2025-01-13 10:50:00         1300.0   CLASSIC  MATCHED_GAME   \n",
       "2  3.729644e+09 2025-01-19 18:15:00         2019.0   CLASSIC  MATCHED_GAME   \n",
       "3  3.729916e+09 2025-01-20 01:27:00         1625.0   CLASSIC  MATCHED_GAME   \n",
       "4  3.729902e+09 2025-01-20 00:40:00         1542.0   CLASSIC  MATCHED_GAME   \n",
       "\n",
       "    game_version  map_id platform_id  queue_id  participant_id  ...  \\\n",
       "0  15.1.649.4112    11.0        EUN1     420.0             5.0  ...   \n",
       "1  15.1.648.3927    11.0        EUN1     420.0             5.0  ...   \n",
       "2  15.1.649.4112    11.0        EUN1     420.0             2.0  ...   \n",
       "3  15.1.649.4112    11.0        EUN1     420.0             8.0  ...   \n",
       "4  15.1.649.4112    11.0        EUN1     420.0            10.0  ...   \n",
       "\n",
       "  final_magicPen final_magicPenPercent final_magicResist  final_movementSpeed  \\\n",
       "0            0.0                   0.0              48.0                385.0   \n",
       "1            0.0                   0.0              38.0                390.0   \n",
       "2            0.0                   0.0             121.0                431.0   \n",
       "3           12.0                   0.0              47.0                380.0   \n",
       "4            0.0                   0.0              40.0                534.0   \n",
       "\n",
       "   final_omnivamp final_physicalVamp  final_power final_powerMax  \\\n",
       "0             0.0                0.0        799.0         1134.0   \n",
       "1             0.0                0.0        970.0          970.0   \n",
       "2             0.0                0.0      10000.0        10000.0   \n",
       "3             0.0                0.0       1122.0         1596.0   \n",
       "4             0.0                0.0       1025.0         1025.0   \n",
       "\n",
       "  final_powerRegen final_spellVamp  \n",
       "0            147.0             0.0  \n",
       "1            105.0             0.0  \n",
       "2              0.0             0.0  \n",
       "3             37.0             0.0  \n",
       "4            109.0             0.0  \n",
       "\n",
       "[5 rows x 94 columns]"
      ]
     },
     "execution_count": 3,
     "metadata": {},
     "output_type": "execute_result"
    }
   ],
   "source": [
    "matches.head(5)"
   ]
  },
  {
   "cell_type": "markdown",
   "id": "a70f9541-87e6-4796-8341-055341723450",
   "metadata": {},
   "source": [
    "#### **1) Removing Unnecessary Columns**"
   ]
  },
  {
   "cell_type": "code",
   "execution_count": 5,
   "id": "e33b675b-94a7-4f1a-bb70-7d8dc0895baa",
   "metadata": {},
   "outputs": [
    {
     "data": {
      "text/html": [
       "<div>\n",
       "<style scoped>\n",
       "    .dataframe tbody tr th:only-of-type {\n",
       "        vertical-align: middle;\n",
       "    }\n",
       "\n",
       "    .dataframe tbody tr th {\n",
       "        vertical-align: top;\n",
       "    }\n",
       "\n",
       "    .dataframe thead th {\n",
       "        text-align: right;\n",
       "    }\n",
       "</style>\n",
       "<table border=\"1\" class=\"dataframe\">\n",
       "  <thead>\n",
       "    <tr style=\"text-align: right;\">\n",
       "      <th></th>\n",
       "      <th>game_id</th>\n",
       "      <th>game_start_utc</th>\n",
       "      <th>game_duration</th>\n",
       "      <th>game_mode</th>\n",
       "      <th>game_version</th>\n",
       "      <th>summoner_id</th>\n",
       "      <th>summoner_level</th>\n",
       "      <th>champion_name</th>\n",
       "      <th>team_id</th>\n",
       "      <th>individual_position</th>\n",
       "      <th>...</th>\n",
       "      <th>champion_mastery_level</th>\n",
       "      <th>champion_mastery_points</th>\n",
       "      <th>final_abilityPower</th>\n",
       "      <th>final_armor</th>\n",
       "      <th>final_attackDamage</th>\n",
       "      <th>final_attackSpeed</th>\n",
       "      <th>final_healthMax</th>\n",
       "      <th>final_magicResist</th>\n",
       "      <th>final_movementSpeed</th>\n",
       "      <th>win</th>\n",
       "    </tr>\n",
       "  </thead>\n",
       "  <tbody>\n",
       "    <tr>\n",
       "      <th>0</th>\n",
       "      <td>3.727443e+09</td>\n",
       "      <td>2025-01-15 14:56:00</td>\n",
       "      <td>1714.0</td>\n",
       "      <td>CLASSIC</td>\n",
       "      <td>15.1.649.4112</td>\n",
       "      <td>8w6pbOajcaSi7ASzTLsuCmg8jCpAVUJN3uxW2FUzUTE3x6g</td>\n",
       "      <td>2065.0</td>\n",
       "      <td>Nami</td>\n",
       "      <td>100.0</td>\n",
       "      <td>UTILITY</td>\n",
       "      <td>...</td>\n",
       "      <td>77.0</td>\n",
       "      <td>889610.0</td>\n",
       "      <td>155.0</td>\n",
       "      <td>97.0</td>\n",
       "      <td>91.0</td>\n",
       "      <td>131.0</td>\n",
       "      <td>2138.0</td>\n",
       "      <td>48.0</td>\n",
       "      <td>385.0</td>\n",
       "      <td>TRUE</td>\n",
       "    </tr>\n",
       "    <tr>\n",
       "      <th>1</th>\n",
       "      <td>3.726377e+09</td>\n",
       "      <td>2025-01-13 10:50:00</td>\n",
       "      <td>1300.0</td>\n",
       "      <td>CLASSIC</td>\n",
       "      <td>15.1.648.3927</td>\n",
       "      <td>8w6pbOajcaSi7ASzTLsuCmg8jCpAVUJN3uxW2FUzUTE3x6g</td>\n",
       "      <td>2064.0</td>\n",
       "      <td>Lulu</td>\n",
       "      <td>100.0</td>\n",
       "      <td>UTILITY</td>\n",
       "      <td>...</td>\n",
       "      <td>69.0</td>\n",
       "      <td>852655.0</td>\n",
       "      <td>117.0</td>\n",
       "      <td>59.0</td>\n",
       "      <td>64.0</td>\n",
       "      <td>115.0</td>\n",
       "      <td>1680.0</td>\n",
       "      <td>38.0</td>\n",
       "      <td>390.0</td>\n",
       "      <td>FALSE</td>\n",
       "    </tr>\n",
       "    <tr>\n",
       "      <th>2</th>\n",
       "      <td>3.729644e+09</td>\n",
       "      <td>2025-01-19 18:15:00</td>\n",
       "      <td>2019.0</td>\n",
       "      <td>CLASSIC</td>\n",
       "      <td>15.1.649.4112</td>\n",
       "      <td>CeGCyYCjlzI8yy-yLBJ20FOiO239D1m6M4F3XK6Y52RsgqI</td>\n",
       "      <td>1851.0</td>\n",
       "      <td>Viego</td>\n",
       "      <td>100.0</td>\n",
       "      <td>JUNGLE</td>\n",
       "      <td>...</td>\n",
       "      <td>148.0</td>\n",
       "      <td>1756910.0</td>\n",
       "      <td>0.0</td>\n",
       "      <td>125.0</td>\n",
       "      <td>275.0</td>\n",
       "      <td>204.0</td>\n",
       "      <td>2672.0</td>\n",
       "      <td>121.0</td>\n",
       "      <td>431.0</td>\n",
       "      <td>FALSE</td>\n",
       "    </tr>\n",
       "    <tr>\n",
       "      <th>3</th>\n",
       "      <td>3.729916e+09</td>\n",
       "      <td>2025-01-20 01:27:00</td>\n",
       "      <td>1625.0</td>\n",
       "      <td>CLASSIC</td>\n",
       "      <td>15.1.649.4112</td>\n",
       "      <td>gL-HcTa7QMJYprHrrqums9w7wVj5P7vYq9uITGlIRMaOv2Y</td>\n",
       "      <td>1796.0</td>\n",
       "      <td>Malzahar</td>\n",
       "      <td>200.0</td>\n",
       "      <td>MIDDLE</td>\n",
       "      <td>...</td>\n",
       "      <td>6.0</td>\n",
       "      <td>35230.0</td>\n",
       "      <td>233.0</td>\n",
       "      <td>105.0</td>\n",
       "      <td>94.0</td>\n",
       "      <td>126.0</td>\n",
       "      <td>2369.0</td>\n",
       "      <td>47.0</td>\n",
       "      <td>380.0</td>\n",
       "      <td>FALSE</td>\n",
       "    </tr>\n",
       "    <tr>\n",
       "      <th>4</th>\n",
       "      <td>3.729902e+09</td>\n",
       "      <td>2025-01-20 00:40:00</td>\n",
       "      <td>1542.0</td>\n",
       "      <td>CLASSIC</td>\n",
       "      <td>15.1.649.4112</td>\n",
       "      <td>gL-HcTa7QMJYprHrrqums9w7wVj5P7vYq9uITGlIRMaOv2Y</td>\n",
       "      <td>1796.0</td>\n",
       "      <td>Lulu</td>\n",
       "      <td>200.0</td>\n",
       "      <td>UTILITY</td>\n",
       "      <td>...</td>\n",
       "      <td>56.0</td>\n",
       "      <td>642297.0</td>\n",
       "      <td>66.0</td>\n",
       "      <td>63.0</td>\n",
       "      <td>67.0</td>\n",
       "      <td>117.0</td>\n",
       "      <td>1807.0</td>\n",
       "      <td>40.0</td>\n",
       "      <td>534.0</td>\n",
       "      <td>FALSE</td>\n",
       "    </tr>\n",
       "  </tbody>\n",
       "</table>\n",
       "<p>5 rows × 43 columns</p>\n",
       "</div>"
      ],
      "text/plain": [
       "        game_id      game_start_utc  game_duration game_mode   game_version  \\\n",
       "0  3.727443e+09 2025-01-15 14:56:00         1714.0   CLASSIC  15.1.649.4112   \n",
       "1  3.726377e+09 2025-01-13 10:50:00         1300.0   CLASSIC  15.1.648.3927   \n",
       "2  3.729644e+09 2025-01-19 18:15:00         2019.0   CLASSIC  15.1.649.4112   \n",
       "3  3.729916e+09 2025-01-20 01:27:00         1625.0   CLASSIC  15.1.649.4112   \n",
       "4  3.729902e+09 2025-01-20 00:40:00         1542.0   CLASSIC  15.1.649.4112   \n",
       "\n",
       "                                       summoner_id  summoner_level  \\\n",
       "0  8w6pbOajcaSi7ASzTLsuCmg8jCpAVUJN3uxW2FUzUTE3x6g          2065.0   \n",
       "1  8w6pbOajcaSi7ASzTLsuCmg8jCpAVUJN3uxW2FUzUTE3x6g          2064.0   \n",
       "2  CeGCyYCjlzI8yy-yLBJ20FOiO239D1m6M4F3XK6Y52RsgqI          1851.0   \n",
       "3  gL-HcTa7QMJYprHrrqums9w7wVj5P7vYq9uITGlIRMaOv2Y          1796.0   \n",
       "4  gL-HcTa7QMJYprHrrqums9w7wVj5P7vYq9uITGlIRMaOv2Y          1796.0   \n",
       "\n",
       "  champion_name  team_id individual_position  ...  champion_mastery_level  \\\n",
       "0          Nami    100.0             UTILITY  ...                    77.0   \n",
       "1          Lulu    100.0             UTILITY  ...                    69.0   \n",
       "2         Viego    100.0              JUNGLE  ...                   148.0   \n",
       "3      Malzahar    200.0              MIDDLE  ...                     6.0   \n",
       "4          Lulu    200.0             UTILITY  ...                    56.0   \n",
       "\n",
       "   champion_mastery_points  final_abilityPower  final_armor  \\\n",
       "0                 889610.0               155.0         97.0   \n",
       "1                 852655.0               117.0         59.0   \n",
       "2                1756910.0                 0.0        125.0   \n",
       "3                  35230.0               233.0        105.0   \n",
       "4                 642297.0                66.0         63.0   \n",
       "\n",
       "   final_attackDamage  final_attackSpeed  final_healthMax  final_magicResist  \\\n",
       "0                91.0              131.0           2138.0               48.0   \n",
       "1                64.0              115.0           1680.0               38.0   \n",
       "2               275.0              204.0           2672.0              121.0   \n",
       "3                94.0              126.0           2369.0               47.0   \n",
       "4                67.0              117.0           1807.0               40.0   \n",
       "\n",
       "   final_movementSpeed    win  \n",
       "0                385.0   TRUE  \n",
       "1                390.0  FALSE  \n",
       "2                431.0  FALSE  \n",
       "3                380.0  FALSE  \n",
       "4                534.0  FALSE  \n",
       "\n",
       "[5 rows x 43 columns]"
      ]
     },
     "execution_count": 5,
     "metadata": {},
     "output_type": "execute_result"
    }
   ],
   "source": [
    "filter_cols = ['game_id', 'game_start_utc', 'game_duration', 'game_mode', 'game_version', 'summoner_id',\n",
    "               'summoner_level', 'champion_name', 'team_id', 'individual_position', 'kills', 'deaths', \n",
    "               'assists', 'gold_earned', 'gold_spent', 'total_damage_dealt', 'physical_damage_dealt_to_champions',\n",
    "               'magic_damage_dealt_to_champions', 'true_damage_dealt_to_champions', 'damage_dealt_to_objectives', \n",
    "               'damage_dealt_to_turrets', 'physical_damage_taken', 'magic_damage_taken', 'true_damage_taken', 'time_ccing_others',\n",
    "               'vision_score', 'wards_placed', 'wards_killed', 'solo_tier', 'solo_rank', 'solo_lp', 'solo_wins', 'solo_losses',\n",
    "               'champion_mastery_level', 'champion_mastery_points', 'final_abilityPower', 'final_armor', 'final_attackDamage',\n",
    "               'final_attackSpeed', 'final_healthMax', 'final_magicResist', 'final_movementSpeed', 'win']\n",
    "matches_filtered = matches[filter_cols]\n",
    "matches_filtered.head()"
   ]
  },
  {
   "cell_type": "markdown",
   "id": "b4d3f715-1d6b-4f71-bf41-b79c77b38c69",
   "metadata": {},
   "source": [
    "#### **2) Checking Column Data Types**"
   ]
  },
  {
   "cell_type": "markdown",
   "id": "d206c507-6545-4035-af73-5e31652aea02",
   "metadata": {},
   "source": [
    "Our next step is to ensure that each column has a suitable data type before we can modify their data."
   ]
  },
  {
   "cell_type": "code",
   "execution_count": 8,
   "id": "e40dddef-b1fc-451e-b43f-c7379f6691e1",
   "metadata": {},
   "outputs": [
    {
     "data": {
      "text/plain": [
       "game_id                                      float64\n",
       "game_start_utc                        datetime64[ns]\n",
       "game_duration                                float64\n",
       "game_mode                                     object\n",
       "game_version                                  object\n",
       "summoner_id                                   object\n",
       "summoner_level                               float64\n",
       "champion_name                                 object\n",
       "team_id                                      float64\n",
       "individual_position                           object\n",
       "kills                                        float64\n",
       "deaths                                       float64\n",
       "assists                                      float64\n",
       "gold_earned                                  float64\n",
       "gold_spent                                   float64\n",
       "total_damage_dealt                           float64\n",
       "physical_damage_dealt_to_champions           float64\n",
       "magic_damage_dealt_to_champions              float64\n",
       "true_damage_dealt_to_champions               float64\n",
       "damage_dealt_to_objectives                   float64\n",
       "damage_dealt_to_turrets                      float64\n",
       "physical_damage_taken                        float64\n",
       "magic_damage_taken                           float64\n",
       "true_damage_taken                            float64\n",
       "time_ccing_others                            float64\n",
       "vision_score                                 float64\n",
       "wards_placed                                 float64\n",
       "wards_killed                                 float64\n",
       "solo_tier                                     object\n",
       "solo_rank                                     object\n",
       "solo_lp                                      float64\n",
       "solo_wins                                    float64\n",
       "solo_losses                                  float64\n",
       "champion_mastery_level                       float64\n",
       "champion_mastery_points                      float64\n",
       "final_abilityPower                           float64\n",
       "final_armor                                  float64\n",
       "final_attackDamage                           float64\n",
       "final_attackSpeed                            float64\n",
       "final_healthMax                              float64\n",
       "final_magicResist                            float64\n",
       "final_movementSpeed                          float64\n",
       "win                                           object\n",
       "dtype: object"
      ]
     },
     "execution_count": 8,
     "metadata": {},
     "output_type": "execute_result"
    }
   ],
   "source": [
    "matches_filtered.dtypes"
   ]
  },
  {
   "cell_type": "markdown",
   "id": "f8f75767-01e8-4d8f-91c9-d56460329cb0",
   "metadata": {},
   "source": [
    "All of the columns seem to have feasible data types so we can move on."
   ]
  },
  {
   "cell_type": "markdown",
   "id": "0eb9d51d-a8ce-449a-957a-826b8d48f4a2",
   "metadata": {},
   "source": [
    "#### **3) Changing Naming Semantics**"
   ]
  },
  {
   "cell_type": "code",
   "execution_count": 11,
   "id": "ff8b3867-6b06-4553-8720-ea8185eb5488",
   "metadata": {},
   "outputs": [
    {
     "data": {
      "text/html": [
       "<div>\n",
       "<style scoped>\n",
       "    .dataframe tbody tr th:only-of-type {\n",
       "        vertical-align: middle;\n",
       "    }\n",
       "\n",
       "    .dataframe tbody tr th {\n",
       "        vertical-align: top;\n",
       "    }\n",
       "\n",
       "    .dataframe thead th {\n",
       "        text-align: right;\n",
       "    }\n",
       "</style>\n",
       "<table border=\"1\" class=\"dataframe\">\n",
       "  <thead>\n",
       "    <tr style=\"text-align: right;\">\n",
       "      <th></th>\n",
       "      <th>champion_name</th>\n",
       "      <th>count</th>\n",
       "    </tr>\n",
       "  </thead>\n",
       "  <tbody>\n",
       "    <tr>\n",
       "      <th>67</th>\n",
       "      <td>Kled</td>\n",
       "      <td>40</td>\n",
       "    </tr>\n",
       "    <tr>\n",
       "      <th>48</th>\n",
       "      <td>Ivern</td>\n",
       "      <td>49</td>\n",
       "    </tr>\n",
       "    <tr>\n",
       "      <th>111</th>\n",
       "      <td>Rumble</td>\n",
       "      <td>67</td>\n",
       "    </tr>\n",
       "    <tr>\n",
       "      <th>104</th>\n",
       "      <td>Rammus</td>\n",
       "      <td>71</td>\n",
       "    </tr>\n",
       "    <tr>\n",
       "      <th>95</th>\n",
       "      <td>Olaf</td>\n",
       "      <td>72</td>\n",
       "    </tr>\n",
       "    <tr>\n",
       "      <th>...</th>\n",
       "      <td>...</td>\n",
       "      <td>...</td>\n",
       "    </tr>\n",
       "    <tr>\n",
       "      <th>53</th>\n",
       "      <td>Jhin</td>\n",
       "      <td>633</td>\n",
       "    </tr>\n",
       "    <tr>\n",
       "      <th>76</th>\n",
       "      <td>Lux</td>\n",
       "      <td>663</td>\n",
       "    </tr>\n",
       "    <tr>\n",
       "      <th>54</th>\n",
       "      <td>Jinx</td>\n",
       "      <td>678</td>\n",
       "    </tr>\n",
       "    <tr>\n",
       "      <th>82</th>\n",
       "      <td>MissFortune</td>\n",
       "      <td>713</td>\n",
       "    </tr>\n",
       "    <tr>\n",
       "      <th>20</th>\n",
       "      <td>Caitlyn</td>\n",
       "      <td>751</td>\n",
       "    </tr>\n",
       "  </tbody>\n",
       "</table>\n",
       "<p>169 rows × 2 columns</p>\n",
       "</div>"
      ],
      "text/plain": [
       "    champion_name  count\n",
       "67           Kled     40\n",
       "48          Ivern     49\n",
       "111        Rumble     67\n",
       "104        Rammus     71\n",
       "95           Olaf     72\n",
       "..            ...    ...\n",
       "53           Jhin    633\n",
       "76            Lux    663\n",
       "54           Jinx    678\n",
       "82    MissFortune    713\n",
       "20        Caitlyn    751\n",
       "\n",
       "[169 rows x 2 columns]"
      ]
     },
     "execution_count": 11,
     "metadata": {},
     "output_type": "execute_result"
    }
   ],
   "source": [
    "champions = matches.groupby(\"champion_name\").size().reset_index(name=\"count\")\n",
    "champions.sort_values(by = \"count\")"
   ]
  },
  {
   "cell_type": "code",
   "execution_count": 12,
   "id": "e3cf6e5b-0eaa-4dfb-bbad-1a4c48bb4e30",
   "metadata": {},
   "outputs": [],
   "source": [
    "matches_filtered.loc[:,'champion_name'] = matches_filtered['champion_name'].replace('MonkeyKing', 'Wukong')"
   ]
  },
  {
   "cell_type": "code",
   "execution_count": 13,
   "id": "6674aced-6266-42b4-883c-8266012b71a0",
   "metadata": {},
   "outputs": [
    {
     "data": {
      "text/plain": [
       "array(['UTILITY', 'JUNGLE', 'MIDDLE', 'Invalid', 'BOTTOM', 'TOP', nan],\n",
       "      dtype=object)"
      ]
     },
     "execution_count": 13,
     "metadata": {},
     "output_type": "execute_result"
    }
   ],
   "source": [
    "matches_filtered['individual_position'].unique()"
   ]
  },
  {
   "cell_type": "code",
   "execution_count": 14,
   "id": "b2302107-0381-4a7c-a59e-6584a4aa4743",
   "metadata": {},
   "outputs": [],
   "source": [
    "matches_filtered.loc[:,'individual_position'] = matches_filtered['individual_position'].replace('UTILITY', 'SUPPORT')"
   ]
  },
  {
   "cell_type": "code",
   "execution_count": 15,
   "id": "a147e7cc-64e9-4320-abbc-841c7ab19832",
   "metadata": {},
   "outputs": [
    {
     "data": {
      "text/plain": [
       "9748"
      ]
     },
     "execution_count": 15,
     "metadata": {},
     "output_type": "execute_result"
    }
   ],
   "source": [
    "matches_filtered[matches_filtered['individual_position'] == 'Invalid'].shape[0]"
   ]
  },
  {
   "cell_type": "markdown",
   "id": "b41ec8f5-f9c1-49ff-9b6f-3556e0ad7c4f",
   "metadata": {},
   "source": [
    "#### **4) Splitting Dataset by Game Mode**"
   ]
  },
  {
   "cell_type": "markdown",
   "id": "77bf0ebe-425b-4af3-9de7-380038034e71",
   "metadata": {},
   "source": [
    "The three game modes in League of Legends differ quite significantly both in terms of how they play, and what data is available for them. For example, the game mode ARAM does not have set roles like the Classic Summoner's Rift mode, hence the need for the `individual_role` column is not needed. As such, the dataset will be split based on the game mode. Due to there not being much data available, and since it is not as popular as the other game modes, we will leave out data for the Swiftplay mode and focus only on the Classic and ARAM modes."
   ]
  },
  {
   "cell_type": "code",
   "execution_count": 18,
   "id": "6ed40b9b-7c38-4bf6-8170-f793802e25a6",
   "metadata": {},
   "outputs": [],
   "source": [
    "sr = matches_filtered[matches_filtered['game_mode'] == 'CLASSIC']\n",
    "aram = matches_filtered[matches_filtered['game_mode'] == 'ARAM']"
   ]
  },
  {
   "cell_type": "markdown",
   "id": "feab87df-0564-4e23-ac14-c0a6b73502d3",
   "metadata": {},
   "source": [
    "#### **5) Dealing with Null Values**"
   ]
  },
  {
   "cell_type": "markdown",
   "id": "f06396a8-399b-42ad-bee7-527b81f04712",
   "metadata": {},
   "source": [
    "We will now check both of the datasets for null values. Upon first look at the data through manual exploration, I saw many null values for the Solo rank columns, but I expect that this is concentrated mostly around the ARAM mode rows."
   ]
  },
  {
   "cell_type": "code",
   "execution_count": 21,
   "id": "6ecd6a21-8a15-4b4c-a776-460e33d46c2b",
   "metadata": {},
   "outputs": [
    {
     "data": {
      "text/plain": [
       "game_id                                  0\n",
       "game_start_utc                           0\n",
       "game_duration                            0\n",
       "game_mode                                0\n",
       "game_version                             0\n",
       "summoner_id                              0\n",
       "summoner_level                           0\n",
       "champion_name                            0\n",
       "team_id                                  0\n",
       "individual_position                      0\n",
       "kills                                    0\n",
       "deaths                                   0\n",
       "assists                                  0\n",
       "gold_earned                              0\n",
       "gold_spent                               0\n",
       "total_damage_dealt                       0\n",
       "physical_damage_dealt_to_champions       0\n",
       "magic_damage_dealt_to_champions          0\n",
       "true_damage_dealt_to_champions           0\n",
       "damage_dealt_to_objectives               0\n",
       "damage_dealt_to_turrets                  0\n",
       "physical_damage_taken                    0\n",
       "magic_damage_taken                       0\n",
       "true_damage_taken                        0\n",
       "time_ccing_others                        0\n",
       "vision_score                             0\n",
       "wards_placed                             0\n",
       "wards_killed                             0\n",
       "solo_tier                             7033\n",
       "solo_rank                             7033\n",
       "solo_lp                               7033\n",
       "solo_wins                             7033\n",
       "solo_losses                           7033\n",
       "champion_mastery_level                   9\n",
       "champion_mastery_points                  9\n",
       "final_abilityPower                       0\n",
       "final_armor                              0\n",
       "final_attackDamage                       0\n",
       "final_attackSpeed                        0\n",
       "final_healthMax                          0\n",
       "final_magicResist                        0\n",
       "final_movementSpeed                      0\n",
       "win                                      0\n",
       "dtype: int64"
      ]
     },
     "execution_count": 21,
     "metadata": {},
     "output_type": "execute_result"
    }
   ],
   "source": [
    "aram.isna().sum()"
   ]
  },
  {
   "cell_type": "code",
   "execution_count": 22,
   "id": "df4b4a2f-198e-47d6-bbba-ead90f617c6a",
   "metadata": {},
   "outputs": [
    {
     "data": {
      "text/plain": [
       "(9730, 43)"
      ]
     },
     "execution_count": 22,
     "metadata": {},
     "output_type": "execute_result"
    }
   ],
   "source": [
    "aram.shape"
   ]
  },
  {
   "cell_type": "markdown",
   "id": "6f3887be-63ad-4735-86d5-5244ed48b19c",
   "metadata": {},
   "source": [
    "Based on the above output, most of the rows for this subset of the data does not have any Solo rank details. A plausible reason is that since ARAM does not have a ranked version like the Classic Summoner's Rift and is available to players that have not unlocked the ranked mode, the players with missing Solo rank column details are simply unranked. However, there is still a population of players who play ARAM despite being ranked, such as myself, so there is indeed the possibility that the data is legitimately missing. Given that most of the rows do not have Solo rank data, and that there are still many other features to determine match outcome from, it may be best to not consider these columns for this game mode. "
   ]
  },
  {
   "cell_type": "code",
   "execution_count": 25,
   "id": "6f762cf0-645b-4907-9f40-110dc177abfc",
   "metadata": {},
   "outputs": [
    {
     "data": {
      "text/plain": [
       "9730"
      ]
     },
     "execution_count": 25,
     "metadata": {},
     "output_type": "execute_result"
    }
   ],
   "source": [
    "aram[aram['individual_position'] == 'Invalid'].shape[0]"
   ]
  },
  {
   "cell_type": "markdown",
   "id": "514031bf-4058-41ef-a4b4-599f3f3da69b",
   "metadata": {},
   "source": [
    "Another column we will remove is the `individual_position` attribute. It was reasoned earlier that ARAM does not have roles like in the Classic game mode so this column is irrelevant to our analysis of this subset as all of the rows contain an 'Invalid' value for this column. As for the other columns, there are very few rows with missing values so we can drop those rows as their removal is unlikely to affect the results significantly. "
   ]
  },
  {
   "cell_type": "code",
   "execution_count": 27,
   "id": "0dd9a979-2753-4989-89f7-e38f7c84edbe",
   "metadata": {},
   "outputs": [],
   "source": [
    "aram = aram.drop(columns = ['solo_tier', 'solo_rank', 'solo_lp', 'solo_wins', 'solo_losses', 'individual_position'])\n",
    "aram_clean = aram.dropna()"
   ]
  },
  {
   "cell_type": "markdown",
   "id": "04e5e324-4a99-485f-bae5-4eaa29f64762",
   "metadata": {},
   "source": [
    "Moving on to the classic Summoner's Rift mode, a ranked mode does exist and is a major factor that determines how players are matched together since it is an indication of skill. If there are some rows with null values in the Solo rank columns, they will have to be treated in order to preserve these important features."
   ]
  },
  {
   "cell_type": "code",
   "execution_count": 29,
   "id": "77916ba5-656e-42be-89b8-b21700d6a4bb",
   "metadata": {},
   "outputs": [
    {
     "data": {
      "text/plain": [
       "game_id                                  0\n",
       "game_start_utc                           0\n",
       "game_duration                            0\n",
       "game_mode                                0\n",
       "game_version                             0\n",
       "summoner_id                              0\n",
       "summoner_level                           0\n",
       "champion_name                            0\n",
       "team_id                                  0\n",
       "individual_position                      0\n",
       "kills                                    0\n",
       "deaths                                   0\n",
       "assists                                  0\n",
       "gold_earned                              0\n",
       "gold_spent                               0\n",
       "total_damage_dealt                       0\n",
       "physical_damage_dealt_to_champions       0\n",
       "magic_damage_dealt_to_champions          0\n",
       "true_damage_dealt_to_champions           0\n",
       "damage_dealt_to_objectives               0\n",
       "damage_dealt_to_turrets                  0\n",
       "physical_damage_taken                    0\n",
       "magic_damage_taken                       0\n",
       "true_damage_taken                        0\n",
       "time_ccing_others                        0\n",
       "vision_score                             0\n",
       "wards_placed                             0\n",
       "wards_killed                             0\n",
       "solo_tier                             4621\n",
       "solo_rank                             4621\n",
       "solo_lp                               4621\n",
       "solo_wins                             4621\n",
       "solo_losses                           4621\n",
       "champion_mastery_level                   8\n",
       "champion_mastery_points                  8\n",
       "final_abilityPower                       0\n",
       "final_armor                              0\n",
       "final_attackDamage                       0\n",
       "final_attackSpeed                        0\n",
       "final_healthMax                          0\n",
       "final_magicResist                        0\n",
       "final_movementSpeed                      0\n",
       "win                                      0\n",
       "dtype: int64"
      ]
     },
     "execution_count": 29,
     "metadata": {},
     "output_type": "execute_result"
    }
   ],
   "source": [
    "sr.isna().sum()"
   ]
  },
  {
   "cell_type": "code",
   "execution_count": 59,
   "id": "44b1aa0a-f190-459e-847f-0393ead3b757",
   "metadata": {},
   "outputs": [
    {
     "data": {
      "text/plain": [
       "(29392, 43)"
      ]
     },
     "execution_count": 59,
     "metadata": {},
     "output_type": "execute_result"
    }
   ],
   "source": [
    "sr.shape"
   ]
  },
  {
   "cell_type": "markdown",
   "id": "2703dbf1-8879-415d-867e-873e6b194cb1",
   "metadata": {},
   "source": [
    "Unlike for the other two game modes, most of the rows have data in the Solo rank columns, which is promising. In order to preserve the rows with missing data, we will treat the players as if they are unranked, which is a very plausible assumption since not all players play the ranked version of the classic game mode. This means the following for these missing values: the `solo_tier` column will take the value \"Unranked\"; `solo_rank` will take the roman numeral value \"V\", since \"IV\" is the lowest rank and \"I\" is the highest, and we need another symbol lower than that that has not been used, and for all of the rows in the other 3 columns we will impute the value 0. All other missing values in other columns will be dropped since there is a negligible amount."
   ]
  },
  {
   "cell_type": "code",
   "execution_count": 62,
   "id": "ffef0bde-42b2-4062-a531-309a8ef1aea8",
   "metadata": {},
   "outputs": [],
   "source": [
    "sr.loc[:,'solo_tier'] = sr['solo_tier'].fillna('Unranked')\n",
    "sr.loc[:, 'solo_rank'] = sr['solo_rank'].fillna('V')\n",
    "sr.loc[:, 'solo_lp'] = sr['solo_lp'].fillna(0)\n",
    "sr.loc[:, 'solo_wins'] = sr['solo_wins'].fillna(0)\n",
    "sr.loc[:, 'solo_losses'] = sr['solo_losses'].fillna(0)\n",
    "\n",
    "sr = sr.dropna()"
   ]
  },
  {
   "cell_type": "markdown",
   "id": "b04a590d-6950-4a3f-b185-fff50e80e5d2",
   "metadata": {},
   "source": [
    "Lastly, let us also check for 'Invalid' position details in the data. In my initial exploration I observed more 'Invalid' value counts than the number of rows for the ARAM mode data, so there may be some rows in the Classic mode data that has 'Invalid' values. If the number of rows that exhibit this behavior is negligible, we will treat them like null values and simply remove them."
   ]
  },
  {
   "cell_type": "code",
   "execution_count": 65,
   "id": "70218d83-b2a0-48f6-8499-ed4df9ae8981",
   "metadata": {
    "scrolled": true
   },
   "outputs": [
    {
     "data": {
      "text/plain": [
       "16"
      ]
     },
     "execution_count": 65,
     "metadata": {},
     "output_type": "execute_result"
    }
   ],
   "source": [
    "sr[sr['individual_position'] == 'Invalid'].shape[0]"
   ]
  },
  {
   "cell_type": "markdown",
   "id": "b3f0dcb8-d3f8-4bf5-a308-ac2c9b6cb685",
   "metadata": {},
   "source": [
    "Since there are barely any rows that do not have valid roles, we will drop these rows."
   ]
  },
  {
   "cell_type": "code",
   "execution_count": 68,
   "id": "0839c873-5e69-41fd-a5ee-8877fee5a87a",
   "metadata": {},
   "outputs": [],
   "source": [
    "sr_clean = sr[sr['individual_position'] != 'Invalid']"
   ]
  },
  {
   "cell_type": "markdown",
   "id": "2726bc86-60bb-4a14-b209-888d04278f97",
   "metadata": {},
   "source": [
    "Now that our datasets are clean, we can start to calculate some summary statistics of the data and answer some questions about the data that will give us insights into some of the trends present."
   ]
  },
  {
   "cell_type": "markdown",
   "id": "4c86faee-47ba-4bd8-a412-e0127598d29b",
   "metadata": {},
   "source": [
    "## **Data Exploration**"
   ]
  },
  {
   "cell_type": "markdown",
   "id": "c825aa5e-e27f-445e-adcf-162c13e9ded8",
   "metadata": {},
   "source": [
    "To begin, we will calculate summary statistics about some key attributes to obtain a broad idea of how the data is distributed"
   ]
  },
  {
   "cell_type": "code",
   "execution_count": 87,
   "id": "f4496fa1-3118-4226-8e09-6b970195cc44",
   "metadata": {},
   "outputs": [
    {
     "data": {
      "text/html": [
       "<div>\n",
       "<style scoped>\n",
       "    .dataframe tbody tr th:only-of-type {\n",
       "        vertical-align: middle;\n",
       "    }\n",
       "\n",
       "    .dataframe tbody tr th {\n",
       "        vertical-align: top;\n",
       "    }\n",
       "\n",
       "    .dataframe thead th {\n",
       "        text-align: right;\n",
       "    }\n",
       "</style>\n",
       "<table border=\"1\" class=\"dataframe\">\n",
       "  <thead>\n",
       "    <tr style=\"text-align: right;\">\n",
       "      <th></th>\n",
       "      <th>game_duration</th>\n",
       "      <th>summoner_level</th>\n",
       "      <th>kills</th>\n",
       "      <th>deaths</th>\n",
       "      <th>assists</th>\n",
       "      <th>gold_earned</th>\n",
       "      <th>total_damage_dealt</th>\n",
       "      <th>time_ccing_others</th>\n",
       "      <th>vision_score</th>\n",
       "    </tr>\n",
       "  </thead>\n",
       "  <tbody>\n",
       "    <tr>\n",
       "      <th>count</th>\n",
       "      <td>29376.0</td>\n",
       "      <td>29376.0</td>\n",
       "      <td>29376.0</td>\n",
       "      <td>29376.0</td>\n",
       "      <td>29376.0</td>\n",
       "      <td>29376.0</td>\n",
       "      <td>29376.0</td>\n",
       "      <td>29376.0</td>\n",
       "      <td>29376.0</td>\n",
       "    </tr>\n",
       "    <tr>\n",
       "      <th>mean</th>\n",
       "      <td>1706.0</td>\n",
       "      <td>412.0</td>\n",
       "      <td>6.0</td>\n",
       "      <td>6.0</td>\n",
       "      <td>8.0</td>\n",
       "      <td>11002.0</td>\n",
       "      <td>138919.0</td>\n",
       "      <td>27.0</td>\n",
       "      <td>25.0</td>\n",
       "    </tr>\n",
       "    <tr>\n",
       "      <th>std</th>\n",
       "      <td>456.0</td>\n",
       "      <td>261.0</td>\n",
       "      <td>5.0</td>\n",
       "      <td>3.0</td>\n",
       "      <td>6.0</td>\n",
       "      <td>3850.0</td>\n",
       "      <td>89486.0</td>\n",
       "      <td>25.0</td>\n",
       "      <td>21.0</td>\n",
       "    </tr>\n",
       "    <tr>\n",
       "      <th>min</th>\n",
       "      <td>101.0</td>\n",
       "      <td>7.0</td>\n",
       "      <td>0.0</td>\n",
       "      <td>0.0</td>\n",
       "      <td>0.0</td>\n",
       "      <td>500.0</td>\n",
       "      <td>0.0</td>\n",
       "      <td>0.0</td>\n",
       "      <td>0.0</td>\n",
       "    </tr>\n",
       "    <tr>\n",
       "      <th>25%</th>\n",
       "      <td>1481.0</td>\n",
       "      <td>211.0</td>\n",
       "      <td>2.0</td>\n",
       "      <td>4.0</td>\n",
       "      <td>4.0</td>\n",
       "      <td>8470.0</td>\n",
       "      <td>68804.0</td>\n",
       "      <td>11.0</td>\n",
       "      <td>12.0</td>\n",
       "    </tr>\n",
       "    <tr>\n",
       "      <th>50%</th>\n",
       "      <td>1721.0</td>\n",
       "      <td>383.0</td>\n",
       "      <td>5.0</td>\n",
       "      <td>6.0</td>\n",
       "      <td>7.0</td>\n",
       "      <td>10899.0</td>\n",
       "      <td>132120.0</td>\n",
       "      <td>22.0</td>\n",
       "      <td>18.0</td>\n",
       "    </tr>\n",
       "    <tr>\n",
       "      <th>75%</th>\n",
       "      <td>1970.0</td>\n",
       "      <td>570.0</td>\n",
       "      <td>9.0</td>\n",
       "      <td>8.0</td>\n",
       "      <td>11.0</td>\n",
       "      <td>13458.0</td>\n",
       "      <td>192576.0</td>\n",
       "      <td>37.0</td>\n",
       "      <td>28.0</td>\n",
       "    </tr>\n",
       "    <tr>\n",
       "      <th>max</th>\n",
       "      <td>3307.0</td>\n",
       "      <td>2065.0</td>\n",
       "      <td>39.0</td>\n",
       "      <td>28.0</td>\n",
       "      <td>47.0</td>\n",
       "      <td>29741.0</td>\n",
       "      <td>699786.0</td>\n",
       "      <td>366.0</td>\n",
       "      <td>193.0</td>\n",
       "    </tr>\n",
       "  </tbody>\n",
       "</table>\n",
       "</div>"
      ],
      "text/plain": [
       "       game_duration  summoner_level    kills   deaths  assists  gold_earned  \\\n",
       "count        29376.0         29376.0  29376.0  29376.0  29376.0      29376.0   \n",
       "mean          1706.0           412.0      6.0      6.0      8.0      11002.0   \n",
       "std            456.0           261.0      5.0      3.0      6.0       3850.0   \n",
       "min            101.0             7.0      0.0      0.0      0.0        500.0   \n",
       "25%           1481.0           211.0      2.0      4.0      4.0       8470.0   \n",
       "50%           1721.0           383.0      5.0      6.0      7.0      10899.0   \n",
       "75%           1970.0           570.0      9.0      8.0     11.0      13458.0   \n",
       "max           3307.0          2065.0     39.0     28.0     47.0      29741.0   \n",
       "\n",
       "       total_damage_dealt  time_ccing_others  vision_score  \n",
       "count             29376.0            29376.0       29376.0  \n",
       "mean             138919.0               27.0          25.0  \n",
       "std               89486.0               25.0          21.0  \n",
       "min                   0.0                0.0           0.0  \n",
       "25%               68804.0               11.0          12.0  \n",
       "50%              132120.0               22.0          18.0  \n",
       "75%              192576.0               37.0          28.0  \n",
       "max              699786.0              366.0         193.0  "
      ]
     },
     "execution_count": 87,
     "metadata": {},
     "output_type": "execute_result"
    }
   ],
   "source": [
    "summ_columns = ['game_duration', 'summoner_level', 'kills', 'deaths', 'assists', 'gold_earned', 'total_damage_dealt',\n",
    "                'time_ccing_others', 'vision_score']\n",
    "round(sr_clean[summ_columns].describe(),0)"
   ]
  },
  {
   "cell_type": "code",
   "execution_count": 113,
   "id": "8fd813c4-d87f-4125-a90e-71a778221e99",
   "metadata": {},
   "outputs": [
    {
     "data": {
      "image/png": "[encoded data removed]",
      "text/plain": [
       "<Figure size 1000x600 with 1 Axes>"
      ]
     },
     "metadata": {},
     "output_type": "display_data"
    }
   ],
   "source": [
    "roles = sr_clean.groupby(\"individual_position\").size().reset_index(name=\"count\")\n",
    "\n",
    "plt.figure(figsize = (10,6))\n",
    "sns.barplot(data = roles, x = 'individual_position', y = 'count', hue = 'individual_position', palette = 'pastel', legend = False)\n",
    "plt.xlabel('Role')\n",
    "plt.ylabel('Count')\n",
    "plt.title('Number of Games Played For Each Role')\n",
    "\n",
    "plt.yticks([])\n",
    "for index, row in roles.iterrows():\n",
    "    plt.text(x=index, y=row['count'] + 50, s=row['count'], ha='center', va='bottom', fontsize=10)\n",
    "\n",
    "plt.show()"
   ]
  },
  {
   "cell_type": "markdown",
   "id": "3427bd3e-f36b-47f5-9963-603adc3ba146",
   "metadata": {},
   "source": [
    "## **References**"
   ]
  },
  {
   "cell_type": "markdown",
   "id": "02f35f52-8dc0-4f05-a2ee-01045eb50f97",
   "metadata": {},
   "source": [
    "https://activeplayer.io/league-of-legends/ (player count statement)"
   ]
  },
  {
   "cell_type": "code",
   "execution_count": null,
   "id": "5aa10704-851f-49ea-9b6a-df9261e86355",
   "metadata": {},
   "outputs": [],
   "source": []
  }
 ],
 "metadata": {
  "kernelspec": {
   "display_name": "Python [conda env:base] *",
   "language": "python",
   "name": "conda-base-py"
  },
  "language_info": {
   "codemirror_mode": {
    "name": "ipython",
    "version": 3
   },
   "file_extension": ".py",
   "mimetype": "text/x-python",
   "name": "python",
   "nbconvert_exporter": "python",
   "pygments_lexer": "ipython3",
   "version": "3.11.7"
  }
 },
 "nbformat": 4,
 "nbformat_minor": 5
}
