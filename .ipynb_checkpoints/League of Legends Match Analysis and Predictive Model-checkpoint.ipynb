{
 "cells": [
  {
   "cell_type": "markdown",
   "id": "aa6bb595-a90a-4f5d-b732-8b16926203bc",
   "metadata": {},
   "source": [
    "# **Predicting Match Outcomes in League of Legends Based on Team Performance and Player Statistics**"
   ]
  },
  {
   "cell_type": "markdown",
   "id": "b6666d37-00b5-48ac-b6f2-4a560be01c30",
   "metadata": {},
   "source": [
    "## **Introduction**"
   ]
  },
  {
   "cell_type": "markdown",
   "id": "52aea4a4-a4b6-41d6-b7e7-41f68c236750",
   "metadata": {},
   "source": [
    "_League of Legends_ is a popular multiplayer online battle arena (MOBA) game developed and published by Riot Games that is played by well over 30 million players everyday on average. As a result of this, there is a wealth of game data available to gain insights about trends seen in League of Legends matches, as well as build a model that can predict the outcome of a game based on different match and player statistics."
   ]
  },
  {
   "cell_type": "markdown",
   "id": "def70942-648d-4bcc-90f6-52c6f9648427",
   "metadata": {},
   "source": [
    "In this analysis, I will begin by cleaning and pre-processing a League of Legends match dataset, after which I will perform an exploratory data analysis on the data, visualizing some key trends. Finally, I will use a Random Forest Classifier to predict match outcomes using the data available."
   ]
  },
  {
   "cell_type": "markdown",
   "id": "ba076c4c-7fe6-428b-89df-2404905fd5d1",
   "metadata": {},
   "source": [
    "## **Data Description**"
   ]
  },
  {
   "cell_type": "markdown",
   "id": "eedb04b4-28bf-47e1-af67-de3a4ace0e2f",
   "metadata": {},
   "source": [
    "__License:__"
   ]
  },
  {
   "cell_type": "markdown",
   "id": "91d826ff-0c42-4cdb-a892-413eac94f480",
   "metadata": {},
   "source": [
    "The data that will be used is the `League of Legends Match Dataset (2025)` from user Jacob Krasuski"
   ]
  },
  {
   "cell_type": "markdown",
   "id": "3427bd3e-f36b-47f5-9963-603adc3ba146",
   "metadata": {},
   "source": [
    "## **References**"
   ]
  },
  {
   "cell_type": "markdown",
   "id": "02f35f52-8dc0-4f05-a2ee-01045eb50f97",
   "metadata": {},
   "source": [
    "https://activeplayer.io/league-of-legends/ (player count statement)"
   ]
  },
  {
   "cell_type": "code",
   "execution_count": null,
   "id": "5aa10704-851f-49ea-9b6a-df9261e86355",
   "metadata": {},
   "outputs": [],
   "source": []
  }
 ],
 "metadata": {
  "kernelspec": {
   "display_name": "Python 3 (ipykernel)",
   "language": "python",
   "name": "python3"
  },
  "language_info": {
   "codemirror_mode": {
    "name": "ipython",
    "version": 3
   },
   "file_extension": ".py",
   "mimetype": "text/x-python",
   "name": "python",
   "nbconvert_exporter": "python",
   "pygments_lexer": "ipython3",
   "version": "3.11.7"
  }
 },
 "nbformat": 4,
 "nbformat_minor": 5
}
